{
  "nbformat": 4,
  "nbformat_minor": 0,
  "metadata": {
    "colab": {
      "name": "DataMininig_121101939.ipynb",
      "provenance": [],
      "collapsed_sections": []
    },
    "kernelspec": {
      "name": "python3",
      "display_name": "Python 3"
    },
    "language_info": {
      "name": "python"
    }
  },
  "cells": [
    {
      "cell_type": "code",
      "execution_count": null,
      "metadata": {
        "id": "MW-PDjNz-uRZ"
      },
      "outputs": [],
      "source": [
        "import pandas as pd\n",
        "import numpy as np"
      ]
    },
    {
      "cell_type": "code",
      "source": [
        "#Load the dataset on colab\n",
        "df = pd.read_csv(\"https://github.com/andvise/DataAnalyticsDatasets/blob/8e8f6475f49d2a587e4f5c76cdf0b011b22c6ac1/titanic.csv?raw=true\")"
      ],
      "metadata": {
        "id": "zd1IJxRt-vwa"
      },
      "execution_count": null,
      "outputs": []
    },
    {
      "cell_type": "code",
      "source": [
        "df.head()"
      ],
      "metadata": {
        "colab": {
          "base_uri": "https://localhost:8080/",
          "height": 250
        },
        "id": "pO7Mzivy-6Lj",
        "outputId": "c086d6eb-c991-405d-c8d0-4bbe5c3e68d7"
      },
      "execution_count": null,
      "outputs": [
        {
          "output_type": "execute_result",
          "data": {
            "text/plain": [
              "   PassengerId  Survived  Pclass  \\\n",
              "0            1         0       3   \n",
              "1            2         1       1   \n",
              "2            3         1       3   \n",
              "3            4         1       1   \n",
              "4            5         0       3   \n",
              "\n",
              "                                                Name     Sex   Age  \\\n",
              "0                             Mr. Owen Harris Braund    male  22.0   \n",
              "1  Mrs. John Bradley (Florence Briggs Thayer) Cum...  female  38.0   \n",
              "2                              Miss. Laina Heikkinen  female  26.0   \n",
              "3        Mrs. Jacques Heath (Lily May Peel) Futrelle  female  35.0   \n",
              "4                            Mr. William Henry Allen    male  35.0   \n",
              "\n",
              "   Siblings/Spouses Aboard  Parents/Children Aboard     Fare  \n",
              "0                        1                      0.0   7.2500  \n",
              "1                        1                      0.0  71.2833  \n",
              "2                        0                      0.0   7.9250  \n",
              "3                        1                      NaN  53.1000  \n",
              "4                        0                      0.0   8.0500  "
            ],
            "text/html": [
              "\n",
              "  <div id=\"df-6d3154be-1b1d-4e7c-a13b-95d11ca3be5d\">\n",
              "    <div class=\"colab-df-container\">\n",
              "      <div>\n",
              "<style scoped>\n",
              "    .dataframe tbody tr th:only-of-type {\n",
              "        vertical-align: middle;\n",
              "    }\n",
              "\n",
              "    .dataframe tbody tr th {\n",
              "        vertical-align: top;\n",
              "    }\n",
              "\n",
              "    .dataframe thead th {\n",
              "        text-align: right;\n",
              "    }\n",
              "</style>\n",
              "<table border=\"1\" class=\"dataframe\">\n",
              "  <thead>\n",
              "    <tr style=\"text-align: right;\">\n",
              "      <th></th>\n",
              "      <th>PassengerId</th>\n",
              "      <th>Survived</th>\n",
              "      <th>Pclass</th>\n",
              "      <th>Name</th>\n",
              "      <th>Sex</th>\n",
              "      <th>Age</th>\n",
              "      <th>Siblings/Spouses Aboard</th>\n",
              "      <th>Parents/Children Aboard</th>\n",
              "      <th>Fare</th>\n",
              "    </tr>\n",
              "  </thead>\n",
              "  <tbody>\n",
              "    <tr>\n",
              "      <th>0</th>\n",
              "      <td>1</td>\n",
              "      <td>0</td>\n",
              "      <td>3</td>\n",
              "      <td>Mr. Owen Harris Braund</td>\n",
              "      <td>male</td>\n",
              "      <td>22.0</td>\n",
              "      <td>1</td>\n",
              "      <td>0.0</td>\n",
              "      <td>7.2500</td>\n",
              "    </tr>\n",
              "    <tr>\n",
              "      <th>1</th>\n",
              "      <td>2</td>\n",
              "      <td>1</td>\n",
              "      <td>1</td>\n",
              "      <td>Mrs. John Bradley (Florence Briggs Thayer) Cum...</td>\n",
              "      <td>female</td>\n",
              "      <td>38.0</td>\n",
              "      <td>1</td>\n",
              "      <td>0.0</td>\n",
              "      <td>71.2833</td>\n",
              "    </tr>\n",
              "    <tr>\n",
              "      <th>2</th>\n",
              "      <td>3</td>\n",
              "      <td>1</td>\n",
              "      <td>3</td>\n",
              "      <td>Miss. Laina Heikkinen</td>\n",
              "      <td>female</td>\n",
              "      <td>26.0</td>\n",
              "      <td>0</td>\n",
              "      <td>0.0</td>\n",
              "      <td>7.9250</td>\n",
              "    </tr>\n",
              "    <tr>\n",
              "      <th>3</th>\n",
              "      <td>4</td>\n",
              "      <td>1</td>\n",
              "      <td>1</td>\n",
              "      <td>Mrs. Jacques Heath (Lily May Peel) Futrelle</td>\n",
              "      <td>female</td>\n",
              "      <td>35.0</td>\n",
              "      <td>1</td>\n",
              "      <td>NaN</td>\n",
              "      <td>53.1000</td>\n",
              "    </tr>\n",
              "    <tr>\n",
              "      <th>4</th>\n",
              "      <td>5</td>\n",
              "      <td>0</td>\n",
              "      <td>3</td>\n",
              "      <td>Mr. William Henry Allen</td>\n",
              "      <td>male</td>\n",
              "      <td>35.0</td>\n",
              "      <td>0</td>\n",
              "      <td>0.0</td>\n",
              "      <td>8.0500</td>\n",
              "    </tr>\n",
              "  </tbody>\n",
              "</table>\n",
              "</div>\n",
              "      <button class=\"colab-df-convert\" onclick=\"convertToInteractive('df-6d3154be-1b1d-4e7c-a13b-95d11ca3be5d')\"\n",
              "              title=\"Convert this dataframe to an interactive table.\"\n",
              "              style=\"display:none;\">\n",
              "        \n",
              "  <svg xmlns=\"http://www.w3.org/2000/svg\" height=\"24px\"viewBox=\"0 0 24 24\"\n",
              "       width=\"24px\">\n",
              "    <path d=\"M0 0h24v24H0V0z\" fill=\"none\"/>\n",
              "    <path d=\"M18.56 5.44l.94 2.06.94-2.06 2.06-.94-2.06-.94-.94-2.06-.94 2.06-2.06.94zm-11 1L8.5 8.5l.94-2.06 2.06-.94-2.06-.94L8.5 2.5l-.94 2.06-2.06.94zm10 10l.94 2.06.94-2.06 2.06-.94-2.06-.94-.94-2.06-.94 2.06-2.06.94z\"/><path d=\"M17.41 7.96l-1.37-1.37c-.4-.4-.92-.59-1.43-.59-.52 0-1.04.2-1.43.59L10.3 9.45l-7.72 7.72c-.78.78-.78 2.05 0 2.83L4 21.41c.39.39.9.59 1.41.59.51 0 1.02-.2 1.41-.59l7.78-7.78 2.81-2.81c.8-.78.8-2.07 0-2.86zM5.41 20L4 18.59l7.72-7.72 1.47 1.35L5.41 20z\"/>\n",
              "  </svg>\n",
              "      </button>\n",
              "      \n",
              "  <style>\n",
              "    .colab-df-container {\n",
              "      display:flex;\n",
              "      flex-wrap:wrap;\n",
              "      gap: 12px;\n",
              "    }\n",
              "\n",
              "    .colab-df-convert {\n",
              "      background-color: #E8F0FE;\n",
              "      border: none;\n",
              "      border-radius: 50%;\n",
              "      cursor: pointer;\n",
              "      display: none;\n",
              "      fill: #1967D2;\n",
              "      height: 32px;\n",
              "      padding: 0 0 0 0;\n",
              "      width: 32px;\n",
              "    }\n",
              "\n",
              "    .colab-df-convert:hover {\n",
              "      background-color: #E2EBFA;\n",
              "      box-shadow: 0px 1px 2px rgba(60, 64, 67, 0.3), 0px 1px 3px 1px rgba(60, 64, 67, 0.15);\n",
              "      fill: #174EA6;\n",
              "    }\n",
              "\n",
              "    [theme=dark] .colab-df-convert {\n",
              "      background-color: #3B4455;\n",
              "      fill: #D2E3FC;\n",
              "    }\n",
              "\n",
              "    [theme=dark] .colab-df-convert:hover {\n",
              "      background-color: #434B5C;\n",
              "      box-shadow: 0px 1px 3px 1px rgba(0, 0, 0, 0.15);\n",
              "      filter: drop-shadow(0px 1px 2px rgba(0, 0, 0, 0.3));\n",
              "      fill: #FFFFFF;\n",
              "    }\n",
              "  </style>\n",
              "\n",
              "      <script>\n",
              "        const buttonEl =\n",
              "          document.querySelector('#df-6d3154be-1b1d-4e7c-a13b-95d11ca3be5d button.colab-df-convert');\n",
              "        buttonEl.style.display =\n",
              "          google.colab.kernel.accessAllowed ? 'block' : 'none';\n",
              "\n",
              "        async function convertToInteractive(key) {\n",
              "          const element = document.querySelector('#df-6d3154be-1b1d-4e7c-a13b-95d11ca3be5d');\n",
              "          const dataTable =\n",
              "            await google.colab.kernel.invokeFunction('convertToInteractive',\n",
              "                                                     [key], {});\n",
              "          if (!dataTable) return;\n",
              "\n",
              "          const docLinkHtml = 'Like what you see? Visit the ' +\n",
              "            '<a target=\"_blank\" href=https://colab.research.google.com/notebooks/data_table.ipynb>data table notebook</a>'\n",
              "            + ' to learn more about interactive tables.';\n",
              "          element.innerHTML = '';\n",
              "          dataTable['output_type'] = 'display_data';\n",
              "          await google.colab.output.renderOutput(dataTable, element);\n",
              "          const docLink = document.createElement('div');\n",
              "          docLink.innerHTML = docLinkHtml;\n",
              "          element.appendChild(docLink);\n",
              "        }\n",
              "      </script>\n",
              "    </div>\n",
              "  </div>\n",
              "  "
            ]
          },
          "metadata": {},
          "execution_count": 3
        }
      ]
    },
    {
      "cell_type": "code",
      "source": [
        "#Display the attributes' name and their data type\n",
        "df.dtypes"
      ],
      "metadata": {
        "colab": {
          "base_uri": "https://localhost:8080/"
        },
        "id": "IeVLMTsl-_EK",
        "outputId": "71ee72d8-6677-4de7-983e-cb73ab5bb509"
      },
      "execution_count": null,
      "outputs": [
        {
          "output_type": "execute_result",
          "data": {
            "text/plain": [
              "PassengerId                  int64\n",
              "Survived                     int64\n",
              "Pclass                       int64\n",
              "Name                        object\n",
              "Sex                         object\n",
              "Age                        float64\n",
              "Siblings/Spouses Aboard      int64\n",
              "Parents/Children Aboard    float64\n",
              "Fare                       float64\n",
              "dtype: object"
            ]
          },
          "metadata": {},
          "execution_count": 4
        }
      ]
    },
    {
      "cell_type": "code",
      "source": [
        "#Delete the columns PassengerId and Name\n",
        "df.drop(['PassengerId', 'Name'],axis=1, inplace=True)"
      ],
      "metadata": {
        "id": "hBebvNfc_HQ4"
      },
      "execution_count": null,
      "outputs": []
    },
    {
      "cell_type": "code",
      "source": [
        "#Replace all missing values with 0\n",
        "df = df.fillna(0)"
      ],
      "metadata": {
        "id": "7AEsTDusALqJ"
      },
      "execution_count": null,
      "outputs": []
    },
    {
      "cell_type": "code",
      "source": [
        "#Transform the Sex column into a numerical one\n",
        "df['Sex'] = df['Sex'].astype('category').cat.codes"
      ],
      "metadata": {
        "id": "vFqYjwJrCrow"
      },
      "execution_count": null,
      "outputs": []
    },
    {
      "cell_type": "code",
      "source": [
        "df.head()"
      ],
      "metadata": {
        "colab": {
          "base_uri": "https://localhost:8080/",
          "height": 206
        },
        "id": "PCv7UBbqHTx5",
        "outputId": "91d05607-c503-48ce-8e88-a753f650bfc8"
      },
      "execution_count": null,
      "outputs": [
        {
          "output_type": "execute_result",
          "data": {
            "text/plain": [
              "   Survived  Pclass  Sex   Age  Siblings/Spouses Aboard  \\\n",
              "0         0       3    1  22.0                        1   \n",
              "1         1       1    0  38.0                        1   \n",
              "2         1       3    0  26.0                        0   \n",
              "3         1       1    0  35.0                        1   \n",
              "4         0       3    1  35.0                        0   \n",
              "\n",
              "   Parents/Children Aboard     Fare  \n",
              "0                      0.0   7.2500  \n",
              "1                      0.0  71.2833  \n",
              "2                      0.0   7.9250  \n",
              "3                      0.0  53.1000  \n",
              "4                      0.0   8.0500  "
            ],
            "text/html": [
              "\n",
              "  <div id=\"df-a98c9778-fb03-402e-b596-28764fd99fd1\">\n",
              "    <div class=\"colab-df-container\">\n",
              "      <div>\n",
              "<style scoped>\n",
              "    .dataframe tbody tr th:only-of-type {\n",
              "        vertical-align: middle;\n",
              "    }\n",
              "\n",
              "    .dataframe tbody tr th {\n",
              "        vertical-align: top;\n",
              "    }\n",
              "\n",
              "    .dataframe thead th {\n",
              "        text-align: right;\n",
              "    }\n",
              "</style>\n",
              "<table border=\"1\" class=\"dataframe\">\n",
              "  <thead>\n",
              "    <tr style=\"text-align: right;\">\n",
              "      <th></th>\n",
              "      <th>Survived</th>\n",
              "      <th>Pclass</th>\n",
              "      <th>Sex</th>\n",
              "      <th>Age</th>\n",
              "      <th>Siblings/Spouses Aboard</th>\n",
              "      <th>Parents/Children Aboard</th>\n",
              "      <th>Fare</th>\n",
              "    </tr>\n",
              "  </thead>\n",
              "  <tbody>\n",
              "    <tr>\n",
              "      <th>0</th>\n",
              "      <td>0</td>\n",
              "      <td>3</td>\n",
              "      <td>1</td>\n",
              "      <td>22.0</td>\n",
              "      <td>1</td>\n",
              "      <td>0.0</td>\n",
              "      <td>7.2500</td>\n",
              "    </tr>\n",
              "    <tr>\n",
              "      <th>1</th>\n",
              "      <td>1</td>\n",
              "      <td>1</td>\n",
              "      <td>0</td>\n",
              "      <td>38.0</td>\n",
              "      <td>1</td>\n",
              "      <td>0.0</td>\n",
              "      <td>71.2833</td>\n",
              "    </tr>\n",
              "    <tr>\n",
              "      <th>2</th>\n",
              "      <td>1</td>\n",
              "      <td>3</td>\n",
              "      <td>0</td>\n",
              "      <td>26.0</td>\n",
              "      <td>0</td>\n",
              "      <td>0.0</td>\n",
              "      <td>7.9250</td>\n",
              "    </tr>\n",
              "    <tr>\n",
              "      <th>3</th>\n",
              "      <td>1</td>\n",
              "      <td>1</td>\n",
              "      <td>0</td>\n",
              "      <td>35.0</td>\n",
              "      <td>1</td>\n",
              "      <td>0.0</td>\n",
              "      <td>53.1000</td>\n",
              "    </tr>\n",
              "    <tr>\n",
              "      <th>4</th>\n",
              "      <td>0</td>\n",
              "      <td>3</td>\n",
              "      <td>1</td>\n",
              "      <td>35.0</td>\n",
              "      <td>0</td>\n",
              "      <td>0.0</td>\n",
              "      <td>8.0500</td>\n",
              "    </tr>\n",
              "  </tbody>\n",
              "</table>\n",
              "</div>\n",
              "      <button class=\"colab-df-convert\" onclick=\"convertToInteractive('df-a98c9778-fb03-402e-b596-28764fd99fd1')\"\n",
              "              title=\"Convert this dataframe to an interactive table.\"\n",
              "              style=\"display:none;\">\n",
              "        \n",
              "  <svg xmlns=\"http://www.w3.org/2000/svg\" height=\"24px\"viewBox=\"0 0 24 24\"\n",
              "       width=\"24px\">\n",
              "    <path d=\"M0 0h24v24H0V0z\" fill=\"none\"/>\n",
              "    <path d=\"M18.56 5.44l.94 2.06.94-2.06 2.06-.94-2.06-.94-.94-2.06-.94 2.06-2.06.94zm-11 1L8.5 8.5l.94-2.06 2.06-.94-2.06-.94L8.5 2.5l-.94 2.06-2.06.94zm10 10l.94 2.06.94-2.06 2.06-.94-2.06-.94-.94-2.06-.94 2.06-2.06.94z\"/><path d=\"M17.41 7.96l-1.37-1.37c-.4-.4-.92-.59-1.43-.59-.52 0-1.04.2-1.43.59L10.3 9.45l-7.72 7.72c-.78.78-.78 2.05 0 2.83L4 21.41c.39.39.9.59 1.41.59.51 0 1.02-.2 1.41-.59l7.78-7.78 2.81-2.81c.8-.78.8-2.07 0-2.86zM5.41 20L4 18.59l7.72-7.72 1.47 1.35L5.41 20z\"/>\n",
              "  </svg>\n",
              "      </button>\n",
              "      \n",
              "  <style>\n",
              "    .colab-df-container {\n",
              "      display:flex;\n",
              "      flex-wrap:wrap;\n",
              "      gap: 12px;\n",
              "    }\n",
              "\n",
              "    .colab-df-convert {\n",
              "      background-color: #E8F0FE;\n",
              "      border: none;\n",
              "      border-radius: 50%;\n",
              "      cursor: pointer;\n",
              "      display: none;\n",
              "      fill: #1967D2;\n",
              "      height: 32px;\n",
              "      padding: 0 0 0 0;\n",
              "      width: 32px;\n",
              "    }\n",
              "\n",
              "    .colab-df-convert:hover {\n",
              "      background-color: #E2EBFA;\n",
              "      box-shadow: 0px 1px 2px rgba(60, 64, 67, 0.3), 0px 1px 3px 1px rgba(60, 64, 67, 0.15);\n",
              "      fill: #174EA6;\n",
              "    }\n",
              "\n",
              "    [theme=dark] .colab-df-convert {\n",
              "      background-color: #3B4455;\n",
              "      fill: #D2E3FC;\n",
              "    }\n",
              "\n",
              "    [theme=dark] .colab-df-convert:hover {\n",
              "      background-color: #434B5C;\n",
              "      box-shadow: 0px 1px 3px 1px rgba(0, 0, 0, 0.15);\n",
              "      filter: drop-shadow(0px 1px 2px rgba(0, 0, 0, 0.3));\n",
              "      fill: #FFFFFF;\n",
              "    }\n",
              "  </style>\n",
              "\n",
              "      <script>\n",
              "        const buttonEl =\n",
              "          document.querySelector('#df-a98c9778-fb03-402e-b596-28764fd99fd1 button.colab-df-convert');\n",
              "        buttonEl.style.display =\n",
              "          google.colab.kernel.accessAllowed ? 'block' : 'none';\n",
              "\n",
              "        async function convertToInteractive(key) {\n",
              "          const element = document.querySelector('#df-a98c9778-fb03-402e-b596-28764fd99fd1');\n",
              "          const dataTable =\n",
              "            await google.colab.kernel.invokeFunction('convertToInteractive',\n",
              "                                                     [key], {});\n",
              "          if (!dataTable) return;\n",
              "\n",
              "          const docLinkHtml = 'Like what you see? Visit the ' +\n",
              "            '<a target=\"_blank\" href=https://colab.research.google.com/notebooks/data_table.ipynb>data table notebook</a>'\n",
              "            + ' to learn more about interactive tables.';\n",
              "          element.innerHTML = '';\n",
              "          dataTable['output_type'] = 'display_data';\n",
              "          await google.colab.output.renderOutput(dataTable, element);\n",
              "          const docLink = document.createElement('div');\n",
              "          docLink.innerHTML = docLinkHtml;\n",
              "          element.appendChild(docLink);\n",
              "        }\n",
              "      </script>\n",
              "    </div>\n",
              "  </div>\n",
              "  "
            ]
          },
          "metadata": {},
          "execution_count": 8
        }
      ]
    },
    {
      "cell_type": "code",
      "source": [
        "#Use Survived as the target label and the rest of the data frame as features\n",
        "y = df['Survived']\n",
        "x = df.loc[:, df.columns != 'Survived']\n",
        "#x=df.drop('Survived', axis=1)"
      ],
      "metadata": {
        "id": "n8buIVqxHcK6"
      },
      "execution_count": null,
      "outputs": []
    },
    {
      "cell_type": "code",
      "source": [
        "#Divide your dataset in 80% for training and 20% for test\n",
        "dat = np.random.rand(len(df)) < 0.8\n",
        "x_train = x[dat]\n",
        "x_test = x[~dat]\n",
        "y_train = y[dat]\n",
        "y_test = y[~dat]"
      ],
      "metadata": {
        "id": "QEQ_bYFNHx29"
      },
      "execution_count": null,
      "outputs": []
    },
    {
      "cell_type": "code",
      "source": [
        "#Scale the columns using min-max scalers\n",
        "x_train -= x_train.min()\n",
        "x_train /= x_train.max()\n",
        "\n",
        "x_test -= x_test.min()\n",
        "x_test /= x_test.max()"
      ],
      "metadata": {
        "id": "6eRqLuyPJvPd"
      },
      "execution_count": null,
      "outputs": []
    },
    {
      "cell_type": "code",
      "source": [
        "#Print the shape of the train and test set\n",
        "print(x_train.shape)\n",
        "print(x_test.shape)\n",
        "print(y_train.shape)\n",
        "print(y_test.shape)"
      ],
      "metadata": {
        "colab": {
          "base_uri": "https://localhost:8080/"
        },
        "id": "I7eG39HtXwyo",
        "outputId": "ee0aa80f-f2a7-4469-c8f6-2098a649cb10"
      },
      "execution_count": null,
      "outputs": [
        {
          "output_type": "stream",
          "name": "stdout",
          "text": [
            "(691, 6)\n",
            "(196, 6)\n",
            "(691,)\n",
            "(196,)\n"
          ]
        }
      ]
    },
    {
      "cell_type": "markdown",
      "source": [
        "K-NN IMPLEMENTATION"
      ],
      "metadata": {
        "id": "VV2KH7Rea6FF"
      }
    },
    {
      "cell_type": "code",
      "source": [
        "import pandas as pd\n",
        "import numpy as np\n",
        "#Load the dataset on colab\n",
        "df = pd.read_csv(\"https://github.com/andvise/DataAnalyticsDatasets/blob/8e8f6475f49d2a587e4f5c76cdf0b011b22c6ac1/titanic.csv?raw=true\")\n",
        "df.dtypes\n",
        "df.drop(['PassengerId', 'Name'],axis=1, inplace=True)\n",
        "df = df.fillna(0)\n",
        "df['Sex'] = df['Sex'].astype('category').cat.codes\n",
        "y = df['Survived']\n",
        "x = df.loc[:, df.columns != 'Survived']\n",
        "dat = np.random.rand(len(df)) < 0.8\n",
        "\n",
        "x_train = x[dat]\n",
        "x_test = x[~dat]\n",
        "y_train = y[dat]\n",
        "y_test = y[~dat]\n",
        "\n",
        "x_train -= x_train.min()\n",
        "x_train /= x_train.max()\n",
        "\n",
        "x_test -= x_test.min()\n",
        "x_test /= x_test.max()\n",
        "\n",
        "def Euclidean_distance(x_train, x_test):\n",
        "    summ = 0\n",
        "    for i in range(6):\n",
        "        sub = (x_test.iloc[i] - x_train[i])**2\n",
        "        summ += sub\n",
        "    return summ\n",
        "\n",
        "def Get_Neighbors(x_train, x_test, num):\n",
        "    lst = []\n",
        "    for i in range(len(x_test)):\n",
        "        distance = []\n",
        "        neighbors = []\n",
        "        data = []\n",
        "        for j in range(len(x_train)):\n",
        "            dist = Euclidean_distance(x_test.iloc[i], x_train.iloc[j])\n",
        "            distance.append((dist, j))\n",
        "        distance.sort()\n",
        "        for t in range(num):\n",
        "            neighbors.append(distance[t][1])\n",
        "        #return neighbors\n",
        "        for n in neighbors:\n",
        "            data.append(y_train.iloc[n])\n",
        "        ans = max(set(data), key=data.count)\n",
        "        lst.append(ans)\n",
        "    return lst\n",
        "\n",
        "def confusion_matrix(lst,y_test):\n",
        "    matrix=np.zeros((2,2)) \n",
        "    for m in range(len(lst)): #confusion matrix is for 2 classes: 1,0\n",
        "        #1=positive, 0=negative\n",
        "        if int(lst[m])==0 and int(y_test.iloc[m])==0:\n",
        "            matrix[0,0]+=1 #True Positives\n",
        "        elif int(lst[m])==1 and int(y_test.iloc[m])==0:\n",
        "            matrix[0,1]+=1 #False Negatives\n",
        "        elif int(lst[m])==0 and int(y_test.iloc[m])==1:\n",
        "            matrix[1,0]+=1 #False Positives\n",
        "        elif int(lst[m])==1 and int(y_test.iloc[m])==1:\n",
        "            matrix[1,1]+=1 #True Negatives\n",
        "    precision=matrix[0,0]/(matrix[0,0]+matrix[0,1])\n",
        "    print(\"Precision:\",precision)\n",
        "    recall=matrix[0,0]/(matrix[0,0]+matrix[1,0])\n",
        "    print(\"Recall:\",recall)\n",
        "    specificity=matrix[1,1]/(matrix[0,1]+matrix[1,1])\n",
        "    print(\"Specificity:\",specificity)\n",
        "    negative_pred_value=matrix[1,1]/(matrix[1,0]+matrix[1,1])\n",
        "    print(\"Negative Predicted Value:\",negative_pred_value)\n",
        "    f1=2*((precision*recall)/(precision+recall))\n",
        "    print(\"F1 score:\",f1)\n",
        "    return matrix\n",
        "\n",
        "#predicted = Get_Neighbors(x_train, x_test, 3)\n",
        "\n",
        "def KNN(x_test, y_test,k):\n",
        "    predictions = Get_Neighbors(x_train, x_test, k)\n",
        "    cm = confusion_matrix(predictions, y_test)\n",
        "   # print('ConfusionMatrix', cm)\n",
        "    accuracy = (predictions == y_test).sum() / len(y_test)\n",
        "    #print('Accuracy', accuracy)\n",
        "    return cm,accuracy\n",
        "\n",
        "#Confusion Matrix is showing, \n",
        "#True positive(0th row, 0th column) means predicted positive and true value is also same. \n",
        "#False Negative(0th row, 1st column) means predicted negative and it's false\n",
        "#False Positive(1st row, 0th column) means predicted positve but true value is negative\\false.\n",
        "#True negative(1st row, 1st column) means predicted negative and it's true."
      ],
      "metadata": {
        "id": "aHEDPVlVi0ew"
      },
      "execution_count": null,
      "outputs": []
    },
    {
      "cell_type": "markdown",
      "source": [
        "HYPERPARMETERS SEARCH"
      ],
      "metadata": {
        "id": "y7jrv0MNxGzE"
      }
    },
    {
      "cell_type": "code",
      "source": [
        "k_best = [1, 3, 5, 7, 9, 11]\n",
        "pred_best = []\n",
        "def K_best(x_test, y_test, K):\n",
        "    for s in K:\n",
        "        predictions_best= Get_Neighbors(x_train, x_test, s)\n",
        "        cm, acc = KNN(x_test, y_test,s)\n",
        "        print(s, '  : Accuracy', acc)\n",
        "        print('confusion_matrix for k:', s, cm)\n",
        "print(K_best(x_test, y_test, k_best))   "
      ],
      "metadata": {
        "colab": {
          "base_uri": "https://localhost:8080/"
        },
        "id": "EcIujPuDi4Q_",
        "outputId": "b8f565ba-4cdd-46fb-d4a0-370bc98e22f7"
      },
      "execution_count": null,
      "outputs": [
        {
          "output_type": "stream",
          "name": "stdout",
          "text": [
            "Precision: 0.8924731182795699\n",
            "Recall: 0.7614678899082569\n",
            "Specificity: 0.803921568627451\n",
            "Negative Predicted Value: 0.6119402985074627\n",
            "F1 score: 0.8217821782178217\n",
            "1   : Accuracy 0.775\n",
            "confusion_matrix for k: 1 [[83. 10.]\n",
            " [26. 41.]]\n",
            "Precision: 0.9032258064516129\n",
            "Recall: 0.8\n",
            "Specificity: 0.8363636363636363\n",
            "Negative Predicted Value: 0.6865671641791045\n",
            "F1 score: 0.8484848484848486\n",
            "3   : Accuracy 0.8125\n",
            "confusion_matrix for k: 3 [[84.  9.]\n",
            " [21. 46.]]\n",
            "Precision: 0.9247311827956989\n",
            "Recall: 0.8113207547169812\n",
            "Specificity: 0.8703703703703703\n",
            "Negative Predicted Value: 0.7014925373134329\n",
            "F1 score: 0.8643216080402009\n",
            "5   : Accuracy 0.83125\n",
            "confusion_matrix for k: 5 [[86.  7.]\n",
            " [20. 47.]]\n",
            "Precision: 0.9032258064516129\n",
            "Recall: 0.8\n",
            "Specificity: 0.8363636363636363\n",
            "Negative Predicted Value: 0.6865671641791045\n",
            "F1 score: 0.8484848484848486\n",
            "7   : Accuracy 0.8125\n",
            "confusion_matrix for k: 7 [[84.  9.]\n",
            " [21. 46.]]\n",
            "Precision: 0.8817204301075269\n",
            "Recall: 0.803921568627451\n",
            "Specificity: 0.8103448275862069\n",
            "Negative Predicted Value: 0.7014925373134329\n",
            "F1 score: 0.841025641025641\n",
            "9   : Accuracy 0.80625\n",
            "confusion_matrix for k: 9 [[82. 11.]\n",
            " [20. 47.]]\n",
            "Precision: 0.9032258064516129\n",
            "Recall: 0.7850467289719626\n",
            "Specificity: 0.8301886792452831\n",
            "Negative Predicted Value: 0.6567164179104478\n",
            "F1 score: 0.84\n",
            "11   : Accuracy 0.8\n",
            "confusion_matrix for k: 11 [[84.  9.]\n",
            " [23. 44.]]\n",
            "None\n"
          ]
        }
      ]
    },
    {
      "cell_type": "markdown",
      "source": [
        "For K=5, accuracy is better than other K's.\n",
        "\n"
      ],
      "metadata": {
        "id": "3KUcie2_gSHh"
      }
    },
    {
      "cell_type": "markdown",
      "source": [
        "Weighted KNN"
      ],
      "metadata": {
        "id": "pB8JLiZ0xfvn"
      }
    },
    {
      "cell_type": "code",
      "source": [
        "def weighted_KNN(xtrain,xtest,k):\n",
        "    xtest = np.array(x_test)\n",
        "    predict=[]\n",
        "    survived =[]\n",
        "    for i in range(len(x_test)):\n",
        "        distance = []\n",
        "        for j in range(len(x_train)):\n",
        "            dist = Euclidean_distance(x_test.iloc[i], x_train.iloc[j])\n",
        "            distance.append(dist)\n",
        "\n",
        "            survived.append(int(y_train.iloc[j])) \n",
        "        \n",
        "        distance.sort()\n",
        "        sur_list =[]\n",
        "        weight = []\n",
        "        for i in distance[:k]:\n",
        "            sur_list.append(survived[distance.index(i)])\n",
        "            weight.append(1/i**2)\n",
        "        wt_1 =0\n",
        "        wt_0 =0\n",
        "            \n",
        "        for i in range(len(sur_list)):\n",
        "            if survived[i] ==1:\n",
        "                wt_1 +=weight[i]\n",
        "            else:\n",
        "                wt_0+=weight[i]\n",
        "        if wt_1>wt_0:\n",
        "            predict.append(1)\n",
        "            \n",
        "        else:\n",
        "            predict.append(0)\n",
        "            \n",
        "    return predict\n",
        "\n",
        "def acc_weighted_KNN():\n",
        "  np.diag(yp_weighted)\n"
      ],
      "metadata": {
        "id": "j_XsFzwDxKJL"
      },
      "execution_count": null,
      "outputs": []
    },
    {
      "cell_type": "code",
      "source": [
        "yp_weighted = weighted_KNN(x_train, x_test, 3)\n",
        "cm_wknn = confusion_matrix(yp_weighted, y_test)\n",
        "print('Weighted K-NN Accuracy: ', np.sum(np.diag(cm_wknn))/np.sum(cm_wknn))\n",
        "\n",
        "#No, it's does not perform better than normal K-NN."
      ],
      "metadata": {
        "colab": {
          "base_uri": "https://localhost:8080/"
        },
        "id": "fzEYhv3Xxhvr",
        "outputId": "0ac4680e-416e-4a63-c55e-63a30ff1ef46"
      },
      "execution_count": null,
      "outputs": [
        {
          "output_type": "stream",
          "name": "stdout",
          "text": [
            "Precision: 0.45161290322580644\n",
            "Recall: 0.5454545454545454\n",
            "Specificity: 0.3855421686746988\n",
            "Negative Predicted Value: 0.47761194029850745\n",
            "F1 score: 0.4941176470588235\n",
            "Weighted K-NN Accuracy:  0.4625\n"
          ]
        }
      ]
    },
    {
      "cell_type": "markdown",
      "source": [
        "Took reference from:\n",
        "https://machinelearningmastery.com/tutorial-to-implement-k-nearest-neighbors-in-python-from-scratch/"
      ],
      "metadata": {
        "id": "_zuzi5jWoREE"
      }
    }
  ]
}
